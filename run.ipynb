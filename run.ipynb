{
 "cells": [
  {
   "cell_type": "code",
   "execution_count": 22,
   "id": "7f95c4bd",
   "metadata": {},
   "outputs": [
    {
     "name": "stdout",
     "output_type": "stream",
     "text": [
      "The autoreload extension is already loaded. To reload it, use:\n",
      "  %reload_ext autoreload\n"
     ]
    }
   ],
   "source": [
    "%matplotlib inline\n",
    "%load_ext autoreload\n",
    "%autoreload 2"
   ]
  },
  {
   "cell_type": "code",
   "execution_count": 26,
   "id": "ff036deb",
   "metadata": {},
   "outputs": [],
   "source": [
    "from IPython.display import Video\n",
    "import os\n",
    "import numpy as np\n",
    "import pandas as pd\n",
    "import pickle\n",
    "import subprocess\n",
    "from tqdm import tqdm\n",
    "from utils_text import (timestamp_to_sec, sec_to_timestamps, create_sentences_from_words, squash_timestamps, clean_script_for_prompt)"
   ]
  },
  {
   "cell_type": "code",
   "execution_count": 8,
   "id": "f6fa11fc",
   "metadata": {},
   "outputs": [],
   "source": [
    "class VideoCutter:\n",
    "    def __init__(self, sentences_list, video_path, transcription_path, save_path = 'result'):\n",
    "        \n",
    "        self.video_path = video_path\n",
    "        self.sentences_list = sentences_list\n",
    "        self.tmp_folder = save_path\n",
    "        self.make_folders()\n",
    "        \n",
    "        with open(transcription_path, 'rb') as f:\n",
    "            self.transcription_results = pickle.load(f)\n",
    "            \n",
    "        self.sentence_dict, self.subtitles_dict = create_sentences_from_words(self.transcription_results) \n",
    "        \n",
    "    def make_folders(self):\n",
    "        os.makedirs(f\"{self.tmp_folder}\", exist_ok=True)\n",
    "        os.makedirs(f\"{self.tmp_folder}/videos\", exist_ok=True)\n",
    "        os.makedirs(f\"{self.tmp_folder}/concat_videos\", exist_ok=True)\n",
    "        \n",
    "    def cut_one_video(self, video, start, end, output_name):\n",
    "\n",
    "        cmd = f\"ffmpeg -y -copyts -ss {start} -i '{video}' -threads {os.cpu_count()} -to {end} -map 0 '{output_name}' -loglevel error\"\n",
    "\n",
    "        subprocess.run(cmd, shell=True)\n",
    "\n",
    "\n",
    "    def concat_videos(self, filename, output_name):\n",
    "\n",
    "        cmd = f\"ffmpeg -y -f concat -safe 0 -threads {os.cpu_count()} -i '{filename}' -c copy '{output_name}' -loglevel error\"\n",
    "\n",
    "        subprocess.run(cmd, shell=True)\n",
    "\n",
    "    def cut_videos(self):\n",
    "        print ('Cutting videos')\n",
    "        for num, timestamp in tqdm(enumerate(self.render_times['timestamps'])):\n",
    "            output_name = num\n",
    "#             output_name = f\"Short {int(self.output_dict['Ranking'][num][0])+1} {self.output_dict['Name'][num]}\"\n",
    "#             output_name = output_name.replace(\"'\", '').replace('\"', '').replace(':', '')\n",
    "\n",
    "            output_name = f\"{self.tmp_folder}'/videos/'{output_name}.mp4\"\n",
    "\n",
    "            if len(timestamp)>1:\n",
    "                concat_list = []\n",
    "                for count, cut in enumerate(timestamp):\n",
    "                    try:\n",
    "                        start = timestamp_to_sec(cut[0])\n",
    "                        end = timestamp_to_sec(cut[1])\n",
    "                    except:\n",
    "                        start = cut[0]\n",
    "                        end = cut[1]\n",
    "\n",
    "                    output_name_tmp = f'concat_videos/{num}_{count}.mp4'      \n",
    "                    concat_list.append(f\"file {output_name_tmp}\\n\")\n",
    "                    output_name_tmp = f'{self.tmp_folder}/concat_videos/{num}_{count}.mp4'      \n",
    "                    self.cut_one_video(self.video_path, start, end, output_name_tmp)\n",
    "                with open(f\"{self.tmp_folder}/file.txt\", \"w\") as output:\n",
    "                    output.writelines(concat_list)\n",
    "                self.concat_videos(f\"{self.tmp_folder}/file.txt\", output_name)\n",
    "            else:\n",
    "                try:\n",
    "                    start = timestamp_to_sec(timestamp[0][0])\n",
    "                    end = timestamp_to_sec(timestamp[0][1])\n",
    "                except:\n",
    "                    start = timestamp[0][0]\n",
    "                    end = timestamp[0][1]\n",
    "                self.cut_one_video(self.video_path, start, end, output_name)\n",
    "                \n",
    "    def process (self):\n",
    "        \n",
    "        df = clean_script_for_prompt(self.sentence_dict, self.transcription_results, self.tmp_folder)\n",
    "        \n",
    "        self.render_times = {\"timestamps\": [], \"positions\": []}\n",
    "\n",
    "        for highlight in self.sentences_list:\n",
    "            positions, new_timestamps = squash_timestamps(highlight, self.sentence_dict[\"timestamps\"])\n",
    "            self.render_times[\"positions\"].append(positions)\n",
    "            self.render_times[\"timestamps\"].append(new_timestamps)\n",
    "            \n",
    "        with open(f\"{self.tmp_folder}/render_times.pickle\", \"wb\") as f:\n",
    "            pickle.dump(self.render_times, f)\n",
    "            \n",
    "        self.cut_videos()\n"
   ]
  },
  {
   "cell_type": "code",
   "execution_count": 12,
   "id": "22c84627",
   "metadata": {},
   "outputs": [],
   "source": [
    "sentences = [[0, 1, 2, 9, 10], [13, 14, 15]]\n",
    "\n",
    "# sentences = [[14,15,16]]"
   ]
  },
  {
   "cell_type": "code",
   "execution_count": null,
   "id": "50932c01",
   "metadata": {},
   "outputs": [],
   "source": []
  },
  {
   "cell_type": "code",
   "execution_count": 10,
   "id": "7c9fd9b4",
   "metadata": {},
   "outputs": [],
   "source": [
    "transcription_path = \"files/transcription.pickle\"\n",
    "video_path = \"files/downloaded_video.mp4\""
   ]
  },
  {
   "cell_type": "code",
   "execution_count": 13,
   "id": "dad79750",
   "metadata": {},
   "outputs": [],
   "source": [
    "videocutter = VideoCutter(sentences, video_path, transcription_path)"
   ]
  },
  {
   "cell_type": "code",
   "execution_count": null,
   "id": "6fdf98a7",
   "metadata": {},
   "outputs": [],
   "source": []
  },
  {
   "cell_type": "code",
   "execution_count": 3,
   "id": "ab028db7",
   "metadata": {},
   "outputs": [],
   "source": [
    "with open(\"files/transcription.pickle\", 'rb') as f:\n",
    "    transcription_results = pickle.load(f)"
   ]
  },
  {
   "cell_type": "code",
   "execution_count": 16,
   "id": "d810377c",
   "metadata": {},
   "outputs": [],
   "source": [
    "sentence_dict = videocutter.sentence_dict"
   ]
  },
  {
   "cell_type": "code",
   "execution_count": 17,
   "id": "b33d22d4",
   "metadata": {},
   "outputs": [],
   "source": [
    "diarization = transcription_results[\"diarization\"]"
   ]
  },
  {
   "cell_type": "code",
   "execution_count": 135,
   "id": "119be3d3",
   "metadata": {},
   "outputs": [],
   "source": [
    "df = clean_script_for_prompt(sentence_dict, diarization, \".\")"
   ]
  },
  {
   "cell_type": "code",
   "execution_count": 136,
   "id": "33c277ba",
   "metadata": {},
   "outputs": [
    {
     "data": {
      "text/html": [
       "<div>\n",
       "<style scoped>\n",
       "    .dataframe tbody tr th:only-of-type {\n",
       "        vertical-align: middle;\n",
       "    }\n",
       "\n",
       "    .dataframe tbody tr th {\n",
       "        vertical-align: top;\n",
       "    }\n",
       "\n",
       "    .dataframe thead th {\n",
       "        text-align: right;\n",
       "    }\n",
       "</style>\n",
       "<table border=\"1\" class=\"dataframe\">\n",
       "  <thead>\n",
       "    <tr style=\"text-align: right;\">\n",
       "      <th></th>\n",
       "      <th>index</th>\n",
       "      <th>speaker</th>\n",
       "      <th>sentence</th>\n",
       "      <th>length</th>\n",
       "    </tr>\n",
       "  </thead>\n",
       "  <tbody>\n",
       "    <tr>\n",
       "      <th>0</th>\n",
       "      <td>0</td>\n",
       "      <td>SPEAKER_02</td>\n",
       "      <td>My first guest is the man who made electric ca...</td>\n",
       "      <td>15.70</td>\n",
       "    </tr>\n",
       "    <tr>\n",
       "      <th>1</th>\n",
       "      <td>1</td>\n",
       "      <td>SPEAKER_02</td>\n",
       "      <td>And then on Tuesday, he's going to work on tha...</td>\n",
       "      <td>5.50</td>\n",
       "    </tr>\n",
       "    <tr>\n",
       "      <th>2</th>\n",
       "      <td>2</td>\n",
       "      <td>SPEAKER_02</td>\n",
       "      <td>He also tweets a lot.</td>\n",
       "      <td>1.30</td>\n",
       "    </tr>\n",
       "    <tr>\n",
       "      <th>3</th>\n",
       "      <td>3</td>\n",
       "      <td>SPEAKER_02</td>\n",
       "      <td>Elon Musk, ladies and gentlemen.</td>\n",
       "      <td>1.72</td>\n",
       "    </tr>\n",
       "    <tr>\n",
       "      <th>4</th>\n",
       "      <td>4</td>\n",
       "      <td>SPEAKER_02</td>\n",
       "      <td>Look at you.</td>\n",
       "      <td>7.90</td>\n",
       "    </tr>\n",
       "    <tr>\n",
       "      <th>5</th>\n",
       "      <td>5</td>\n",
       "      <td>SPEAKER_00</td>\n",
       "      <td>Wow.</td>\n",
       "      <td>4.00</td>\n",
       "    </tr>\n",
       "    <tr>\n",
       "      <th>6</th>\n",
       "      <td>6</td>\n",
       "      <td>SPEAKER_00</td>\n",
       "      <td>Did I get the full order of things that you do...</td>\n",
       "      <td>7.00</td>\n",
       "    </tr>\n",
       "    <tr>\n",
       "      <th>7</th>\n",
       "      <td>7</td>\n",
       "      <td>SPEAKER_02</td>\n",
       "      <td>When I was reading there, I left out the tunne...</td>\n",
       "      <td>3.28</td>\n",
       "    </tr>\n",
       "    <tr>\n",
       "      <th>8</th>\n",
       "      <td>8</td>\n",
       "      <td>SPEAKER_03</td>\n",
       "      <td>Uh, yeah.</td>\n",
       "      <td>0.98</td>\n",
       "    </tr>\n",
       "    <tr>\n",
       "      <th>9</th>\n",
       "      <td>9</td>\n",
       "      <td>SPEAKER_03</td>\n",
       "      <td>A lot of jobs.</td>\n",
       "      <td>0.90</td>\n",
       "    </tr>\n",
       "    <tr>\n",
       "      <th>10</th>\n",
       "      <td>10</td>\n",
       "      <td>SPEAKER_02</td>\n",
       "      <td>Do you do all these things every day?</td>\n",
       "      <td>1.68</td>\n",
       "    </tr>\n",
       "    <tr>\n",
       "      <th>11</th>\n",
       "      <td>11</td>\n",
       "      <td>SPEAKER_02</td>\n",
       "      <td>Do you work on all of them in a single day?</td>\n",
       "      <td>2.20</td>\n",
       "    </tr>\n",
       "    <tr>\n",
       "      <th>12</th>\n",
       "      <td>12</td>\n",
       "      <td>SPEAKER_02</td>\n",
       "      <td>No.</td>\n",
       "      <td>0.78</td>\n",
       "    </tr>\n",
       "    <tr>\n",
       "      <th>13</th>\n",
       "      <td>13</td>\n",
       "      <td>SPEAKER_03</td>\n",
       "      <td>No.</td>\n",
       "      <td>0.50</td>\n",
       "    </tr>\n",
       "    <tr>\n",
       "      <th>14</th>\n",
       "      <td>14</td>\n",
       "      <td>SPEAKER_03</td>\n",
       "      <td>But I do have...</td>\n",
       "      <td>0.96</td>\n",
       "    </tr>\n",
       "    <tr>\n",
       "      <th>15</th>\n",
       "      <td>15</td>\n",
       "      <td>SPEAKER_03</td>\n",
       "      <td>I do have a long work day.</td>\n",
       "      <td>1.84</td>\n",
       "    </tr>\n",
       "    <tr>\n",
       "      <th>16</th>\n",
       "      <td>16</td>\n",
       "      <td>SPEAKER_03</td>\n",
       "      <td>Um, yeah.</td>\n",
       "      <td>1.84</td>\n",
       "    </tr>\n",
       "    <tr>\n",
       "      <th>17</th>\n",
       "      <td>17</td>\n",
       "      <td>SPEAKER_03</td>\n",
       "      <td>So...</td>\n",
       "      <td>0.76</td>\n",
       "    </tr>\n",
       "    <tr>\n",
       "      <th>18</th>\n",
       "      <td>18</td>\n",
       "      <td>SPEAKER_03</td>\n",
       "      <td>I work a lot.</td>\n",
       "      <td>1.80</td>\n",
       "    </tr>\n",
       "    <tr>\n",
       "      <th>19</th>\n",
       "      <td>19</td>\n",
       "      <td>SPEAKER_02</td>\n",
       "      <td>Well, I'm so thrilled you're here, because, yo...</td>\n",
       "      <td>9.12</td>\n",
       "    </tr>\n",
       "  </tbody>\n",
       "</table>\n",
       "</div>"
      ],
      "text/plain": [
       "    index  ... length\n",
       "0       0  ...  15.70\n",
       "1       1  ...   5.50\n",
       "2       2  ...   1.30\n",
       "3       3  ...   1.72\n",
       "4       4  ...   7.90\n",
       "5       5  ...   4.00\n",
       "6       6  ...   7.00\n",
       "7       7  ...   3.28\n",
       "8       8  ...   0.98\n",
       "9       9  ...   0.90\n",
       "10     10  ...   1.68\n",
       "11     11  ...   2.20\n",
       "12     12  ...   0.78\n",
       "13     13  ...   0.50\n",
       "14     14  ...   0.96\n",
       "15     15  ...   1.84\n",
       "16     16  ...   1.84\n",
       "17     17  ...   0.76\n",
       "18     18  ...   1.80\n",
       "19     19  ...   9.12\n",
       "\n",
       "[20 rows x 4 columns]"
      ]
     },
     "execution_count": 136,
     "metadata": {},
     "output_type": "execute_result"
    }
   ],
   "source": [
    "df.head(20)"
   ]
  },
  {
   "cell_type": "code",
   "execution_count": 131,
   "id": "e46253f2",
   "metadata": {},
   "outputs": [],
   "source": []
  },
  {
   "cell_type": "code",
   "execution_count": null,
   "id": "7840131b",
   "metadata": {},
   "outputs": [],
   "source": [
    "videocutter.process()"
   ]
  },
  {
   "cell_type": "code",
   "execution_count": null,
   "id": "2b7ac78b",
   "metadata": {},
   "outputs": [],
   "source": []
  },
  {
   "cell_type": "code",
   "execution_count": null,
   "id": "188604be",
   "metadata": {},
   "outputs": [],
   "source": []
  },
  {
   "cell_type": "code",
   "execution_count": null,
   "id": "4a4d36b6",
   "metadata": {},
   "outputs": [],
   "source": []
  },
  {
   "cell_type": "code",
   "execution_count": 63,
   "id": "b569a499",
   "metadata": {},
   "outputs": [
    {
     "data": {
      "text/plain": [
       "[[0, 1, 2, 9, 10], [13, 14, 15]]"
      ]
     },
     "execution_count": 63,
     "metadata": {},
     "output_type": "execute_result"
    }
   ],
   "source": [
    "videocutter.sentences_list"
   ]
  },
  {
   "cell_type": "code",
   "execution_count": 59,
   "id": "feb20648",
   "metadata": {},
   "outputs": [
    {
     "data": {
      "text/plain": [
       "{'timestamps': [[[0.0, 22.5], [47.38, 49.96]], [[52.94, 56.24]]],\n",
       " 'positions': [[[0, 2], [9, 10]], [[13, 15]]]}"
      ]
     },
     "execution_count": 59,
     "metadata": {},
     "output_type": "execute_result"
    }
   ],
   "source": [
    "videocutter.render_times"
   ]
  },
  {
   "cell_type": "code",
   "execution_count": 5,
   "id": "5cc3f6ad",
   "metadata": {},
   "outputs": [
    {
     "data": {
      "text/html": [
       "<video src=\"result/videos/0.mp4\" controls  >\n",
       "      Your browser does not support the <code>video</code> element.\n",
       "    </video>"
      ],
      "text/plain": [
       "<IPython.core.display.Video object>"
      ]
     },
     "execution_count": 5,
     "metadata": {},
     "output_type": "execute_result"
    }
   ],
   "source": [
    "Video(\"result/videos/0.mp4\")"
   ]
  },
  {
   "cell_type": "code",
   "execution_count": null,
   "id": "d1711835",
   "metadata": {},
   "outputs": [],
   "source": []
  },
  {
   "cell_type": "code",
   "execution_count": null,
   "id": "5b540f4c",
   "metadata": {},
   "outputs": [],
   "source": []
  },
  {
   "cell_type": "code",
   "execution_count": null,
   "id": "1844ad9c",
   "metadata": {},
   "outputs": [],
   "source": []
  },
  {
   "cell_type": "code",
   "execution_count": null,
   "id": "82299fd3",
   "metadata": {},
   "outputs": [],
   "source": []
  },
  {
   "cell_type": "code",
   "execution_count": null,
   "id": "92d3ddb6",
   "metadata": {},
   "outputs": [],
   "source": []
  },
  {
   "cell_type": "code",
   "execution_count": null,
   "id": "456d0652",
   "metadata": {},
   "outputs": [],
   "source": []
  }
 ],
 "metadata": {
  "kernelspec": {
   "display_name": "Python 3 (ipykernel)",
   "language": "python",
   "name": "python3"
  },
  "language_info": {
   "codemirror_mode": {
    "name": "ipython",
    "version": 3
   },
   "file_extension": ".py",
   "mimetype": "text/x-python",
   "name": "python",
   "nbconvert_exporter": "python",
   "pygments_lexer": "ipython3",
   "version": "3.8.16"
  }
 },
 "nbformat": 4,
 "nbformat_minor": 5
}
